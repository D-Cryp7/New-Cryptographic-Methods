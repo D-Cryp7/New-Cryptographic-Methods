{
 "cells": [
  {
   "cell_type": "code",
   "execution_count": 20,
   "id": "8d596c11-d401-4dfb-979d-80ff220770a5",
   "metadata": {},
   "outputs": [
    {
     "data": {
      "text/plain": [
       "(101714.5692, 343636.2479)"
      ]
     },
     "execution_count": 20,
     "metadata": {},
     "output_type": "execute_result"
    }
   ],
   "source": [
    "import numpy as np\n",
    "\n",
    "alg = [\"UnitaryQuadraticRoots\", \"MultiplivativeInverse\"]\n",
    "bits = 4096\n",
    "\n",
    "results = open(f\"{alg[1]}/{bits}_time_results.txt\").readlines()\n",
    "signs = []\n",
    "vers = []\n",
    "for res in results:\n",
    "    sign, verify = eval(res)\n",
    "    signs.append(sign)\n",
    "    vers.append(verify)\n",
    "\n",
    "np.mean(signs), np.mean(vers)"
   ]
  }
 ],
 "metadata": {
  "kernelspec": {
   "display_name": "Python 3",
   "language": "python",
   "name": "python3"
  },
  "language_info": {
   "codemirror_mode": {
    "name": "ipython",
    "version": 3
   },
   "file_extension": ".py",
   "mimetype": "text/x-python",
   "name": "python",
   "nbconvert_exporter": "python",
   "pygments_lexer": "ipython3",
   "version": "3.8.15"
  }
 },
 "nbformat": 4,
 "nbformat_minor": 5
}
