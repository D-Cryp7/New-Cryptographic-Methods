{
 "cells": [
  {
   "cell_type": "code",
   "execution_count": 5,
   "id": "b4f89660-eb0e-4fb7-a40a-8b3b862119d2",
   "metadata": {},
   "outputs": [],
   "source": [
    "from Crypto.Util.number import getPrime\n",
    "from secrets import randbelow\n",
    "\n",
    "bits = 4096\n",
    "p = getPrime(bits // 2)\n",
    "q = getPrime(bits // 2)\n",
    "n = p * q\n",
    "message = randbelow(n)\n",
    "x = randbelow(n)\n",
    "xx = pow(x, 2, n)\n",
    "xx_inv = pow(xx, - 1, n)\n",
    "\n",
    "data = [p, q, message, x, xx, xx_inv]\n",
    "\n",
    "file = open(f\"{bits}_params.txt\", \"w\")\n",
    "for value in data:\n",
    "    file.write(str(value) + \"\\n\")\n",
    "file.close()"
   ]
  }
 ],
 "metadata": {
  "kernelspec": {
   "display_name": "Python 3",
   "language": "python",
   "name": "python3"
  },
  "language_info": {
   "codemirror_mode": {
    "name": "ipython",
    "version": 3
   },
   "file_extension": ".py",
   "mimetype": "text/x-python",
   "name": "python",
   "nbconvert_exporter": "python",
   "pygments_lexer": "ipython3",
   "version": "3.8.15"
  }
 },
 "nbformat": 4,
 "nbformat_minor": 5
}
